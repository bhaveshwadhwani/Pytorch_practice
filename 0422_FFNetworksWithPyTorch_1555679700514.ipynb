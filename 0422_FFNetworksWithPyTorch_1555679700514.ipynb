{
  "nbformat": 4,
  "nbformat_minor": 0,
  "metadata": {
    "colab": {
      "name": "0422_FFNetworksWithPyTorch-1555679700514.ipynb",
      "provenance": [],
      "collapsed_sections": [],
      "include_colab_link": true
    },
    "kernelspec": {
      "name": "python3",
      "display_name": "Python 3"
    },
    "accelerator": "GPU"
  },
  "cells": [
    {
      "cell_type": "markdown",
      "metadata": {
        "id": "view-in-github",
        "colab_type": "text"
      },
      "source": [
        "<a href=\"https://colab.research.google.com/github/bhaveshwadhwani/Pytorch_practice/blob/master/0422_FFNetworksWithPyTorch_1555679700514.ipynb\" target=\"_parent\"><img src=\"https://colab.research.google.com/assets/colab-badge.svg\" alt=\"Open In Colab\"/></a>"
      ]
    },
    {
      "cell_type": "markdown",
      "metadata": {
        "id": "UuAb0vJNGYt4",
        "colab_type": "text"
      },
      "source": [
        "## Outline\n",
        "\n",
        "* Recap of data\n",
        "* Feedforward network with Pytorch tensors and autograd\n",
        "* Using Pytorch's NN -> Functional, Linear, Sequential & Pytorch's Optim\n",
        "* Moving things to CUDA"
      ]
    },
    {
      "cell_type": "code",
      "metadata": {
        "id": "zi3i20NTF2LY",
        "colab_type": "code",
        "cellView": "both",
        "colab": {}
      },
      "source": [
        "import numpy as np\n",
        "import math\n",
        "import matplotlib.pyplot as plt\n",
        "import matplotlib.colors\n",
        "import pandas as pd\n",
        "from sklearn.model_selection import train_test_split\n",
        "from sklearn.metrics import accuracy_score, mean_squared_error, log_loss\n",
        "from tqdm import tqdm_notebook \n",
        "import seaborn as sns\n",
        "import time\n",
        "from IPython.display import HTML\n",
        "import warnings\n",
        "warnings.filterwarnings('ignore')\n",
        "\n",
        "from sklearn.preprocessing import OneHotEncoder\n",
        "from sklearn.datasets import make_blobs\n",
        "\n",
        "import torch"
      ],
      "execution_count": 0,
      "outputs": []
    },
    {
      "cell_type": "code",
      "metadata": {
        "id": "S-2v19fdGBpV",
        "colab_type": "code",
        "outputId": "764b5f98-09f9-448c-c974-64eb37e71b2a",
        "cellView": "both",
        "colab": {
          "base_uri": "https://localhost:8080/",
          "height": 34
        }
      },
      "source": [
        "torch.manual_seed(0)"
      ],
      "execution_count": 2,
      "outputs": [
        {
          "output_type": "execute_result",
          "data": {
            "text/plain": [
              "<torch._C.Generator at 0x7f55779f2d30>"
            ]
          },
          "metadata": {
            "tags": []
          },
          "execution_count": 2
        }
      ]
    },
    {
      "cell_type": "code",
      "metadata": {
        "id": "KaNnf16vGFC8",
        "colab_type": "code",
        "cellView": "both",
        "colab": {}
      },
      "source": [
        "my_cmap = matplotlib.colors.LinearSegmentedColormap.from_list(\"\", [\"red\",\"yellow\",\"green\"])"
      ],
      "execution_count": 0,
      "outputs": []
    },
    {
      "cell_type": "markdown",
      "metadata": {
        "id": "t3h91SrKGem4",
        "colab_type": "text"
      },
      "source": [
        "## Generate Dataset"
      ]
    },
    {
      "cell_type": "code",
      "metadata": {
        "id": "7CiU06B-GG-6",
        "colab_type": "code",
        "outputId": "cfce0d48-a127-40ce-b16b-5415ccab9455",
        "colab": {
          "base_uri": "https://localhost:8080/",
          "height": 34
        }
      },
      "source": [
        "data, labels = make_blobs(n_samples=1000, centers=4, n_features=2, random_state=0)\n",
        "print(data.shape, labels.shape)"
      ],
      "execution_count": 4,
      "outputs": [
        {
          "output_type": "stream",
          "text": [
            "(1000, 2) (1000,)\n"
          ],
          "name": "stdout"
        }
      ]
    },
    {
      "cell_type": "code",
      "metadata": {
        "id": "XOOGMkBAGIMy",
        "colab_type": "code",
        "outputId": "cdf7ccf3-f04d-4d26-819a-301f2918c1e0",
        "colab": {
          "base_uri": "https://localhost:8080/",
          "height": 265
        }
      },
      "source": [
        "plt.scatter(data[:,0], data[:,1], c=labels, cmap=my_cmap)\n",
        "plt.show()"
      ],
      "execution_count": 5,
      "outputs": [
        {
          "output_type": "display_data",
          "data": {
            "image/png": "[encoded data removed]",
            "text/plain": [
              "<Figure size 432x288 with 1 Axes>"
            ]
          },
          "metadata": {
            "tags": []
          }
        }
      ]
    },
    {
      "cell_type": "code",
      "metadata": {
        "id": "Eqblj3GsGMx6",
        "colab_type": "code",
        "outputId": "2970d8e3-1ed1-43c2-d0cd-116b4d7c8195",
        "colab": {
          "base_uri": "https://localhost:8080/",
          "height": 34
        }
      },
      "source": [
        "X_train, X_val, Y_train, Y_val = train_test_split(data, labels, stratify=labels, random_state=0)\n",
        "print(X_train.shape, X_val.shape, labels.shape)"
      ],
      "execution_count": 7,
      "outputs": [
        {
          "output_type": "stream",
          "text": [
            "(750, 2) (250, 2) (1000,)\n"
          ],
          "name": "stdout"
        }
      ]
    },
    {
      "cell_type": "markdown",
      "metadata": {
        "id": "LnPj_IrhGiYe",
        "colab_type": "text"
      },
      "source": [
        "## Using torch tensors and autograd"
      ]
    },
    {
      "cell_type": "code",
      "metadata": {
        "id": "x3quRDoBOdvE",
        "colab_type": "code",
        "colab": {}
      },
      "source": [
        "X_train, Y_train, X_val, Y_val = map(torch.tensor, (X_train, Y_train, X_val, Y_val))"
      ],
      "execution_count": 0,
      "outputs": []
    },
    {
      "cell_type": "code",
      "metadata": {
        "id": "S8gNaribO9aB",
        "colab_type": "code",
        "outputId": "687e03f3-fc69-4cab-8bfd-da262c8bd613",
        "colab": {
          "base_uri": "https://localhost:8080/",
          "height": 34
        }
      },
      "source": [
        "print(X_train.shape, Y_train.shape)"
      ],
      "execution_count": 9,
      "outputs": [
        {
          "output_type": "stream",
          "text": [
            "torch.Size([750, 2]) torch.Size([750])\n"
          ],
          "name": "stdout"
        }
      ]
    },
    {
      "cell_type": "code",
      "metadata": {
        "id": "ScgaRv2uyoNX",
        "colab_type": "code",
        "colab": {
          "base_uri": "https://localhost:8080/",
          "height": 187
        },
        "outputId": "ffae7615-c5c9-4fb3-af9e-6b91f546fd38"
      },
      "source": [
        "a =  torch.rand(2,4)\n",
        "print(a)\n",
        "print(a.exp())\n",
        "print(a.shape)\n",
        "print(a.exp().sum(-1))\n",
        "print(a.exp().sum(-1).unsqueeze(-1))\n",
        "print(a.exp()/a.exp().sum(-1).unsqueeze(-1))"
      ],
      "execution_count": 16,
      "outputs": [
        {
          "output_type": "stream",
          "text": [
            "tensor([[0.1759, 0.2698, 0.1507, 0.0317],\n",
            "        [0.2081, 0.9298, 0.7231, 0.7423]])\n",
            "tensor([[1.1923, 1.3097, 1.1626, 1.0322],\n",
            "        [1.2314, 2.5340, 2.0608, 2.1008]])\n",
            "torch.Size([2, 4])\n",
            "tensor([4.6969, 7.9270])\n",
            "tensor([[4.6969],\n",
            "        [7.9270]])\n",
            "tensor([[0.2539, 0.2789, 0.2475, 0.2198],\n",
            "        [0.1553, 0.3197, 0.2600, 0.2650]])\n"
          ],
          "name": "stdout"
        }
      ]
    },
    {
      "cell_type": "code",
      "metadata": {
        "id": "Z57ivURJOqB-",
        "colab_type": "code",
        "colab": {}
      },
      "source": [
        "def model(x):\n",
        "  a1 = torch.matmul(x, weights1) + bias1 # (N, 2) x (2, 2) -> (N, 2)\n",
        "  h1 = a1.sigmoid() # (N, 2)\n",
        "  a2 = torch.matmul(h1, weights2) + bias2 # (N, 2) x (2, 4) -> (N, 4)\n",
        "  h2 = a2.exp()/a2.exp().sum(-1).unsqueeze(-1) # (N, 4)\n",
        "  return h2"
      ],
      "execution_count": 0,
      "outputs": []
    },
    {
      "cell_type": "code",
      "metadata": {
        "id": "XWuBSu0vROfQ",
        "colab_type": "code",
        "outputId": "a987fa19-d408-4183-9bab-5f19e1a5ef35",
        "colab": {
          "base_uri": "https://localhost:8080/",
          "height": 34
        }
      },
      "source": [
        "y_hat = torch.tensor([[0.1, 0.2, 0.3, 0.4], [0.8, 0.1, 0.05, 0.05]])\n",
        "y = torch.tensor([2, 0])\n",
        "\n",
        "(-y_hat[range(y_hat.shape[0]), y].log()).mean().item()\n",
        "\n",
        "(torch.argmax(y_hat, dim=1) == y).float().mean().item()"
      ],
      "execution_count": 20,
      "outputs": [
        {
          "output_type": "execute_result",
          "data": {
            "text/plain": [
              "0.5"
            ]
          },
          "metadata": {
            "tags": []
          },
          "execution_count": 20
        }
      ]
    },
    {
      "cell_type": "code",
      "metadata": {
        "id": "K0DJId7vR7aJ",
        "colab_type": "code",
        "colab": {}
      },
      "source": [
        "def loss_fn(y_hat, y):\n",
        "  return -(y_hat[range(y.shape[0]), y].log()).mean()"
      ],
      "execution_count": 0,
      "outputs": []
    },
    {
      "cell_type": "code",
      "metadata": {
        "id": "vZa-xupaa2i3",
        "colab_type": "code",
        "colab": {}
      },
      "source": [
        "def accuracy(y_hat, y):\n",
        "  pred = torch.argmax(y_hat, dim=1)\n",
        "  return (pred == y).float().mean()"
      ],
      "execution_count": 0,
      "outputs": []
    },
    {
      "cell_type": "code",
      "metadata": {
        "id": "eGNj27K0YcO_",
        "colab_type": "code",
        "outputId": "aff57968-2aad-4540-d3a4-04715684c10f",
        "colab": {
          "base_uri": "https://localhost:8080/",
          "height": 301
        }
      },
      "source": [
        "torch.manual_seed(0)\n",
        "weights1 = torch.randn(2, 2) / math.sqrt(2)\n",
        "weights1.requires_grad_()\n",
        "bias1 = torch.zeros(2, requires_grad=True)\n",
        "\n",
        "weights2 = torch.randn(2, 4) / math.sqrt(2)\n",
        "weights2.requires_grad_()\n",
        "bias2 = torch.zeros(4, requires_grad=True)\n",
        "\n",
        "learning_rate = 0.2\n",
        "epochs = 10000\n",
        "\n",
        "X_train = X_train.float()\n",
        "Y_train = Y_train.long()\n",
        "\n",
        "loss_arr = []\n",
        "acc_arr = []\n",
        "\n",
        "for epoch in range(epochs):\n",
        "  y_hat = model(X_train)\n",
        "  loss = loss_fn(y_hat, Y_train)\n",
        "  loss.backward()\n",
        "  loss_arr.append(loss.item())\n",
        "  acc_arr.append(accuracy(y_hat, Y_train))\n",
        "\n",
        "  with torch.no_grad():\n",
        "    weights1 -= weights1.grad * learning_rate\n",
        "    bias1 -= bias1.grad * learning_rate\n",
        "    weights2 -= weights2.grad * learning_rate\n",
        "    bias2 -= bias2.grad * learning_rate\n",
        "    weights1.grad.zero_()\n",
        "    bias1.grad.zero_()\n",
        "    weights2.grad.zero_()\n",
        "    bias2.grad.zero_()\n",
        "\n",
        "plt.plot(loss_arr, 'r-')\n",
        "plt.plot(acc_arr, 'b-')\n",
        "plt.show()\n",
        "print('Loss before training', loss_arr[0])\n",
        "print('Loss after training', loss_arr[-1])"
      ],
      "execution_count": 23,
      "outputs": [
        {
          "output_type": "display_data",
          "data": {
            "image/png": "[encoded data removed]",
            "text/plain": [
              "<Figure size 432x288 with 1 Axes>"
            ]
          },
          "metadata": {
            "tags": []
          }
        },
        {
          "output_type": "stream",
          "text": [
            "Loss before training 1.5456441640853882\n",
            "Loss after training 0.19288592040538788\n"
          ],
          "name": "stdout"
        }
      ]
    },
    {
      "cell_type": "markdown",
      "metadata": {
        "id": "1fYBscrQJvyr",
        "colab_type": "text"
      },
      "source": [
        "## Using NN.Functional"
      ]
    },
    {
      "cell_type": "code",
      "metadata": {
        "id": "PH5t0Tvg2MVq",
        "colab_type": "code",
        "colab": {}
      },
      "source": [
        "import torch.nn.functional as F"
      ],
      "execution_count": 0,
      "outputs": []
    },
    {
      "cell_type": "code",
      "metadata": {
        "id": "R7CMk4w52S5x",
        "colab_type": "code",
        "outputId": "b99e7667-e097-4d38-914e-5ab238227aa8",
        "colab": {
          "base_uri": "https://localhost:8080/",
          "height": 307
        }
      },
      "source": [
        "torch.manual_seed(0)\n",
        "weights1 = torch.randn(2, 2) / math.sqrt(2)\n",
        "weights1.requires_grad_()\n",
        "bias1 = torch.zeros(2, requires_grad=True)\n",
        "\n",
        "weights2 = torch.randn(2, 4) / math.sqrt(2)\n",
        "weights2.requires_grad_()\n",
        "bias2 = torch.zeros(4, requires_grad=True)\n",
        "\n",
        "learning_rate = 0.2\n",
        "epochs = 10000\n",
        "\n",
        "loss_arr = []\n",
        "acc_arr = []\n",
        "\n",
        "for epoch in range(epochs):\n",
        "  y_hat = model(X_train)\n",
        "  loss = F.cross_entropy(y_hat, Y_train)\n",
        "  loss.backward()\n",
        "  loss_arr.append(loss.item())\n",
        "  acc_arr.append(accuracy(y_hat, Y_train))\n",
        "\n",
        "  with torch.no_grad():\n",
        "    weights1 -= weights1.grad * learning_rate\n",
        "    bias1 -= bias1.grad * learning_rate\n",
        "    weights2 -= weights2.grad * learning_rate\n",
        "    bias2 -= bias2.grad * learning_rate\n",
        "    weights1.grad.zero_()\n",
        "    bias1.grad.zero_()\n",
        "    weights2.grad.zero_()\n",
        "    bias2.grad.zero_()\n",
        "\n",
        "plt.plot(loss_arr, 'r-')\n",
        "plt.plot(acc_arr, 'b-')\n",
        "plt.show()\n",
        "print('Loss before training', loss_arr[0])\n",
        "print('Loss after training', loss_arr[-1])"
      ],
      "execution_count": 0,
      "outputs": [
        {
          "output_type": "display_data",
          "data": {
            "image/png": "[encoded data removed]",
            "text/plain": [
              "<Figure size 432x288 with 1 Axes>"
            ]
          },
          "metadata": {
            "tags": []
          }
        },
        {
          "output_type": "stream",
          "text": [
            "Loss before training 1.4111980199813843\n",
            "Loss after training 0.9561842679977417\n"
          ],
          "name": "stdout"
        }
      ]
    },
    {
      "cell_type": "markdown",
      "metadata": {
        "id": "TeLqKpJMKNf_",
        "colab_type": "text"
      },
      "source": [
        "## Using NN.Parameter"
      ]
    },
    {
      "cell_type": "code",
      "metadata": {
        "id": "YTi--oeE9IMn",
        "colab_type": "code",
        "colab": {}
      },
      "source": [
        "import torch.nn as nn"
      ],
      "execution_count": 0,
      "outputs": []
    },
    {
      "cell_type": "code",
      "metadata": {
        "id": "5-lao9OA3Buw",
        "colab_type": "code",
        "colab": {}
      },
      "source": [
        "class FirstNetwork(nn.Module):\n",
        "  \n",
        "  def __init__(self):\n",
        "    super().__init__()\n",
        "    torch.manual_seed(0)\n",
        "    self.weights1 = nn.Parameter(torch.randn(2, 2) / math.sqrt(2))\n",
        "    self.bias1 = nn.Parameter(torch.zeros(2))\n",
        "    self.weights2 = nn.Parameter(torch.randn(2, 4) / math.sqrt(2))\n",
        "    self.bias2 = nn.Parameter(torch.zeros(4))\n",
        "    \n",
        "  def forward(self, X):\n",
        "    a1 = torch.matmul(X, self.weights1) + self.bias1\n",
        "    h1 = a1.sigmoid()\n",
        "    a2 = torch.matmul(h1, self.weights2) + self.bias2\n",
        "    h2 = a2.exp()/a2.exp().sum(-1).unsqueeze(-1)\n",
        "    return h2"
      ],
      "execution_count": 0,
      "outputs": []
    },
    {
      "cell_type": "code",
      "metadata": {
        "id": "K4L4tDXA6Fju",
        "colab_type": "code",
        "colab": {}
      },
      "source": [
        "def fit(epochs = 1000, learning_rate = 1):\n",
        "  loss_arr = []\n",
        "  acc_arr = []\n",
        "  for epoch in range(epochs):\n",
        "    y_hat = fn(X_train)\n",
        "    loss = F.cross_entropy(y_hat, Y_train)\n",
        "    loss_arr.append(loss.item())\n",
        "    acc_arr.append(accuracy(y_hat, Y_train))\n",
        "\n",
        "    loss.backward()\n",
        "    with torch.no_grad():\n",
        "      for param in fn.parameters():\n",
        "        param -= learning_rate * param.grad\n",
        "      fn.zero_grad()\n",
        "        \n",
        "  plt.plot(loss_arr, 'r-')\n",
        "  plt.plot(acc_arr, 'b-')\n",
        "  plt.show()      \n",
        "  print('Loss before training', loss_arr[0])\n",
        "  print('Loss after training', loss_arr[-1])"
      ],
      "execution_count": 0,
      "outputs": []
    },
    {
      "cell_type": "code",
      "metadata": {
        "id": "KkLjg3FS6V9c",
        "colab_type": "code",
        "outputId": "090981d6-fa0e-4fd1-f5f4-caa6755b4a1a",
        "colab": {
          "base_uri": "https://localhost:8080/",
          "height": 307
        }
      },
      "source": [
        "fn = FirstNetwork()\n",
        "fit()"
      ],
      "execution_count": 0,
      "outputs": [
        {
          "output_type": "display_data",
          "data": {
            "image/png": "[encoded data removed]",
            "text/plain": [
              "<Figure size 432x288 with 1 Axes>"
            ]
          },
          "metadata": {
            "tags": []
          }
        },
        {
          "output_type": "stream",
          "text": [
            "Loss before training 1.4111980199813843\n",
            "Loss after training 0.9939236640930176\n"
          ],
          "name": "stdout"
        }
      ]
    },
    {
      "cell_type": "markdown",
      "metadata": {
        "id": "wKP_tS8cKSv9",
        "colab_type": "text"
      },
      "source": [
        "## Using NN.Linear and Optim"
      ]
    },
    {
      "cell_type": "code",
      "metadata": {
        "id": "zaS9b1OH9tBz",
        "colab_type": "code",
        "colab": {}
      },
      "source": [
        "class FirstNetwork_v1(nn.Module):\n",
        "  \n",
        "  def __init__(self):\n",
        "    super().__init__()\n",
        "    torch.manual_seed(0)\n",
        "    self.lin1 = nn.Linear(2, 2)\n",
        "    self.lin2 = nn.Linear(2, 4)\n",
        "    \n",
        "  def forward(self, X):\n",
        "    a1 = self.lin1(X)\n",
        "    h1 = a1.sigmoid()\n",
        "    a2 = self.lin2(h1)\n",
        "    h2 = a2.exp()/a2.exp().sum(-1).unsqueeze(-1)\n",
        "    return h2"
      ],
      "execution_count": 0,
      "outputs": []
    },
    {
      "cell_type": "code",
      "metadata": {
        "id": "CpIaKmU1CAmd",
        "colab_type": "code",
        "outputId": "f9938a78-3449-4216-db42-967425be5642",
        "colab": {
          "base_uri": "https://localhost:8080/",
          "height": 307
        }
      },
      "source": [
        "fn = FirstNetwork_v1()\n",
        "fit()"
      ],
      "execution_count": 0,
      "outputs": [
        {
          "output_type": "display_data",
          "data": {
            "image/png": "[encoded data removed]",
            "text/plain": [
              "<Figure size 432x288 with 1 Axes>"
            ]
          },
          "metadata": {
            "tags": []
          }
        },
        {
          "output_type": "stream",
          "text": [
            "Loss before training 1.395160436630249\n",
            "Loss after training 0.8738410472869873\n"
          ],
          "name": "stdout"
        }
      ]
    },
    {
      "cell_type": "code",
      "metadata": {
        "id": "Bnj532qNC0By",
        "colab_type": "code",
        "colab": {}
      },
      "source": [
        "from torch import optim"
      ],
      "execution_count": 0,
      "outputs": []
    },
    {
      "cell_type": "code",
      "metadata": {
        "id": "rffjj0tZCEC0",
        "colab_type": "code",
        "colab": {}
      },
      "source": [
        "def fit_v1(epochs = 1000, learning_rate = 1):\n",
        "  loss_arr = []\n",
        "  acc_arr = []\n",
        "  opt = optim.SGD(fn.parameters(), lr=learning_rate)\n",
        "  \n",
        "  for epoch in range(epochs):\n",
        "    y_hat = fn(X_train)\n",
        "    loss = F.cross_entropy(y_hat, Y_train)\n",
        "    loss_arr.append(loss.item())\n",
        "    acc_arr.append(accuracy(y_hat, Y_train))\n",
        "\n",
        "    loss.backward()\n",
        "    opt.step()\n",
        "    opt.zero_grad()\n",
        "        \n",
        "  plt.plot(loss_arr, 'r-')\n",
        "  plt.plot(acc_arr, 'b-')\n",
        "  plt.show()      \n",
        "  print('Loss before training', loss_arr[0])\n",
        "  print('Loss after training', loss_arr[-1])"
      ],
      "execution_count": 0,
      "outputs": []
    },
    {
      "cell_type": "code",
      "metadata": {
        "id": "FTiOuArHC9iD",
        "colab_type": "code",
        "outputId": "24f04f88-f27d-4432-9b1c-7209db3b6ad6",
        "colab": {
          "base_uri": "https://localhost:8080/",
          "height": 307
        }
      },
      "source": [
        "fn = FirstNetwork_v1()\n",
        "fit_v1()"
      ],
      "execution_count": 0,
      "outputs": [
        {
          "output_type": "display_data",
          "data": {
            "image/png": "[encoded data removed]",
            "text/plain": [
              "<Figure size 432x288 with 1 Axes>"
            ]
          },
          "metadata": {
            "tags": []
          }
        },
        {
          "output_type": "stream",
          "text": [
            "Loss before training 1.395160436630249\n",
            "Loss after training 0.8738410472869873\n"
          ],
          "name": "stdout"
        }
      ]
    },
    {
      "cell_type": "markdown",
      "metadata": {
        "id": "VonDcC3FKbSR",
        "colab_type": "text"
      },
      "source": [
        "## Using NN.Sequential"
      ]
    },
    {
      "cell_type": "code",
      "metadata": {
        "id": "L-qr8a9cDdkm",
        "colab_type": "code",
        "colab": {}
      },
      "source": [
        "class FirstNetwork_v2(nn.Module):\n",
        "  \n",
        "  def __init__(self):\n",
        "    super().__init__()\n",
        "    torch.manual_seed(0)\n",
        "    self.net = nn.Sequential(\n",
        "        nn.Linear(2, 2), \n",
        "        nn.Sigmoid(), \n",
        "        nn.Linear(2, 4), \n",
        "        nn.Softmax()\n",
        "    )\n",
        "\n",
        "  def forward(self, X):\n",
        "    return self.net(X)"
      ],
      "execution_count": 0,
      "outputs": []
    },
    {
      "cell_type": "code",
      "metadata": {
        "id": "xohfM0eSDdei",
        "colab_type": "code",
        "outputId": "da528915-d56b-4b87-89cb-d4c2c12a051a",
        "colab": {
          "base_uri": "https://localhost:8080/",
          "height": 307
        }
      },
      "source": [
        "fn = FirstNetwork_v2()\n",
        "fit_v1()"
      ],
      "execution_count": 0,
      "outputs": [
        {
          "output_type": "display_data",
          "data": {
            "image/png": "[encoded data removed]",
            "text/plain": [
              "<Figure size 432x288 with 1 Axes>"
            ]
          },
          "metadata": {
            "tags": []
          }
        },
        {
          "output_type": "stream",
          "text": [
            "Loss before training 1.395160436630249\n",
            "Loss after training 0.8738410472869873\n"
          ],
          "name": "stdout"
        }
      ]
    },
    {
      "cell_type": "code",
      "metadata": {
        "id": "-Qts_kaoD4un",
        "colab_type": "code",
        "colab": {}
      },
      "source": [
        "def fit_v2(x, y, model, opt, loss_fn, epochs = 1000):\n",
        "  \n",
        "  for epoch in range(epochs):\n",
        "    loss = loss_fn(model(x), y)\n",
        "\n",
        "    loss.backward()\n",
        "    opt.step()\n",
        "    opt.zero_grad()\n",
        "    \n",
        "  return loss.item()"
      ],
      "execution_count": 0,
      "outputs": []
    },
    {
      "cell_type": "code",
      "metadata": {
        "id": "J6KfpPZKiNaC",
        "colab_type": "code",
        "outputId": "35d77e68-fe94-4957-b395-d538cd3f5d9e",
        "colab": {
          "base_uri": "https://localhost:8080/",
          "height": 36
        }
      },
      "source": [
        "fn = FirstNetwork_v2()\n",
        "loss_fn = F.cross_entropy\n",
        "opt = optim.SGD(fn.parameters(), lr=1)\n",
        "fit_v2(X_train, Y_train, fn, opt, loss_fn)"
      ],
      "execution_count": 0,
      "outputs": [
        {
          "output_type": "execute_result",
          "data": {
            "text/plain": [
              "0.8738410472869873"
            ]
          },
          "metadata": {
            "tags": []
          },
          "execution_count": 65
        }
      ]
    },
    {
      "cell_type": "markdown",
      "metadata": {
        "id": "cUTJSDfPKd27",
        "colab_type": "text"
      },
      "source": [
        "## Running it on GPUs"
      ]
    },
    {
      "cell_type": "code",
      "metadata": {
        "id": "1Vd-_xX9EId0",
        "colab_type": "code",
        "outputId": "71aee704-0548-4a9c-c777-4c1863647dcf",
        "colab": {
          "base_uri": "https://localhost:8080/",
          "height": 55
        }
      },
      "source": [
        "device = torch.device(\"cuda\")\n",
        "\n",
        "X_train=X_train.to(device)\n",
        "Y_train=Y_train.to(device)\n",
        "fn = FirstNetwork_v2()\n",
        "fn.to(device)\n",
        "tic = time.time()\n",
        "print('Final loss', fit_v2(X_train, Y_train, fn, opt, loss_fn))\n",
        "toc = time.time()\n",
        "print('Time taken', toc - tic)"
      ],
      "execution_count": 0,
      "outputs": [
        {
          "output_type": "stream",
          "text": [
            "Final loss 1.395159363746643\n",
            "Time taken 0.7891602516174316\n"
          ],
          "name": "stdout"
        }
      ]
    },
    {
      "cell_type": "code",
      "metadata": {
        "id": "1qVL_qwyoAHQ",
        "colab_type": "code",
        "colab": {}
      },
      "source": [
        "class FirstNetwork_v3(nn.Module):\n",
        "  \n",
        "  def __init__(self):\n",
        "    super().__init__()\n",
        "    torch.manual_seed(0)\n",
        "    self.net = nn.Sequential(\n",
        "        nn.Linear(2, 1024*4), \n",
        "        nn.Sigmoid(), \n",
        "        nn.Linear(1024*4, 4), \n",
        "        nn.Softmax()\n",
        "    )\n",
        "\n",
        "  def forward(self, X):\n",
        "    return self.net(X)"
      ],
      "execution_count": 0,
      "outputs": []
    },
    {
      "cell_type": "code",
      "metadata": {
        "id": "I92Jt55xodtb",
        "colab_type": "code",
        "outputId": "568da7a6-72ec-4169-d75b-0c742cd542fe",
        "colab": {
          "base_uri": "https://localhost:8080/",
          "height": 55
        }
      },
      "source": [
        "device = torch.device(\"cpu\")\n",
        "\n",
        "X_train=X_train.to(device)\n",
        "Y_train=Y_train.to(device)\n",
        "fn = FirstNetwork_v3()\n",
        "fn.to(device)\n",
        "tic = time.time()\n",
        "print('Final loss', fit_v2(X_train, Y_train, fn, opt, loss_fn))\n",
        "toc = time.time()\n",
        "print('Time taken', toc - tic)"
      ],
      "execution_count": 0,
      "outputs": [
        {
          "output_type": "stream",
          "text": [
            "Final loss 1.3890225887298584\n",
            "Time taken 29.352728128433228\n"
          ],
          "name": "stdout"
        }
      ]
    },
    {
      "cell_type": "markdown",
      "metadata": {
        "id": "uZaZn-PeqDwf",
        "colab_type": "text"
      },
      "source": [
        "## Exercises\n",
        "\n",
        "1. Try out a deeper neural network, eg. 2 hidden layers\n",
        "2. Try out different parameters in the optimizer (eg. try momentum, nestrov) -> check `optim.SGD` docs\n",
        "3. Try out other optimization methods (eg. RMSProp and Adam) which are supported in `optim`\n",
        "4. Try out different initialisation methods which are supported in `nn.init` "
      ]
    }
  ]
}